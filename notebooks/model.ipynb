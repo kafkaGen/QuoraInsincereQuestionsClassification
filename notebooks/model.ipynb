{
 "cells": [
  {
   "cell_type": "code",
   "execution_count": 1,
   "metadata": {},
   "outputs": [],
   "source": [
    "import pandas as pd\n",
    "import torch\n",
    "\n",
    "from sklearn.model_selection import train_test_split\n",
    "from transformers import pipeline, AutoTokenizer, AutoModelForSequenceClassification, \\\n",
    "    TrainingArguments, DataCollatorWithPadding, Trainer\n",
    "from datasets import load_dataset\n",
    "\n",
    "model_name = 'bert-base-uncased'\n",
    "device = torch.device('cuda') if torch.cuda.is_available() else torch.device('cpu')"
   ]
  },
  {
   "cell_type": "code",
   "execution_count": 2,
   "metadata": {},
   "outputs": [
    {
     "name": "stderr",
     "output_type": "stream",
     "text": [
      "Found cached dataset csv (/home/olehborysevych/.cache/huggingface/datasets/csv/default-31e0f765990aa99d/0.0.0/eea64c71ca8b46dd3f537ed218fc9bf495d5707789152eb2764f5c78fa66d59d)\n"
     ]
    },
    {
     "data": {
      "application/vnd.jupyter.widget-view+json": {
       "model_id": "b40e03b3a707450aabd8b118557ed1e5",
       "version_major": 2,
       "version_minor": 0
      },
      "text/plain": [
       "  0%|          | 0/1 [00:00<?, ?it/s]"
      ]
     },
     "metadata": {},
     "output_type": "display_data"
    }
   ],
   "source": [
    "# n_rows = 1000\n",
    "# train = pd.read_csv('../data/train.csv')[:n_rows]\n",
    "# test = pd.read_csv('../data/test.csv')[:n_rows]\n",
    "\n",
    "# def tokenize_dataset(tokenizer, dataset):\n",
    "#     return tokenizer(dataset[\"question_text\"].to_list(), padding=True, truncation=True, return_tensors='pt')\n",
    "\n",
    "\n",
    "tokenizer = AutoTokenizer.from_pretrained(model_name)\n",
    "data_collator = DataCollatorWithPadding(tokenizer=tokenizer)\n",
    "\n",
    "# train, valid = train_test_split(train, test_size=0.01, stratify=train.target)\n",
    "# train.index, valid.index = range(train.shape[0]), range(valid.shape[0])\n",
    "\n",
    "# train_ds = tokenize_dataset(tokenizer, train)\n",
    "# train_ds['labels'] = train['target']\n",
    "# train_ds = data_collator(train_ds).to(device)\n",
    "\n",
    "# valid_ds = tokenize_dataset(tokenizer, valid)\n",
    "# valid_ds['labels'] = valid['target']\n",
    "# valid_ds = data_collator(valid_ds).to(device)\n",
    "\n",
    "# test_ds = tokenize_dataset(tokenizer, test)\n",
    "# test_ds = data_collator(test_ds).to(device)\n",
    "\n",
    "dataset = load_dataset('csv', data_files='../data/train.csv')['train'].train_test_split(test_size=15_000)"
   ]
  },
  {
   "cell_type": "code",
   "execution_count": 5,
   "metadata": {},
   "outputs": [
    {
     "data": {
      "text/plain": [
       "{'qid': '254c52dcb529839d515c',\n",
       " 'question_text': 'Is inheritance tax necessary or is it burdensome?',\n",
       " 'target': 0}"
      ]
     },
     "execution_count": 5,
     "metadata": {},
     "output_type": "execute_result"
    }
   ],
   "source": [
    "dataset['train'][0]"
   ]
  },
  {
   "cell_type": "code",
   "execution_count": null,
   "metadata": {},
   "outputs": [],
   "source": [
    "def compute_metrics(eval_preds):\n",
    "    metric = evaluate.load(\"glue\", \"mrpc\")\n",
    "    logits, labels = eval_preds\n",
    "    predictions = np.argmax(logits, axis=-1)\n",
    "    return metric.compute(predictions=predictions, references=labels)\n",
    "\n",
    "model = AutoModelForSequenceClassification.from_pretrained(model_name, num_labels=2).to(device)\n",
    "\n",
    "training_args = TrainingArguments(\n",
    "    output_dir='../models',\n",
    "    learning_rate=2e-5,\n",
    "    per_device_train_batch_size=8,\n",
    "    per_device_eval_batch_size=8,\n",
    "    num_train_epochs=2,\n",
    "    gradient_accumulation_steps=1,\n",
    "    evaluation_strategy=\"epoch\",\n",
    "    save_strategy='epoch',\n",
    "    load_best_model_at_end=True,\n",
    "    # metric_for_best_model\n",
    ")\n",
    "\n",
    "trainer = Trainer(\n",
    "    model=model,\n",
    "    args=training_args,\n",
    "    train_dataset=dataset['train'],\n",
    "    eval_dataset=dataset['valid'],\n",
    "    tokenizer=tokenizer,\n",
    "    data_collator=data_collator,\n",
    "    compute_metrics=None\n",
    ")\n",
    "\n",
    "trainer.train()"
   ]
  },
  {
   "cell_type": "code",
   "execution_count": null,
   "metadata": {},
   "outputs": [],
   "source": [
    "classifier.save_pretrained('../models/bert')"
   ]
  }
 ],
 "metadata": {
  "kernelspec": {
   "display_name": "Python 3",
   "language": "python",
   "name": "python3"
  },
  "language_info": {
   "codemirror_mode": {
    "name": "ipython",
    "version": 3
   },
   "file_extension": ".py",
   "mimetype": "text/x-python",
   "name": "python",
   "nbconvert_exporter": "python",
   "pygments_lexer": "ipython3",
   "version": "3.11.4"
  },
  "orig_nbformat": 4
 },
 "nbformat": 4,
 "nbformat_minor": 2
}
